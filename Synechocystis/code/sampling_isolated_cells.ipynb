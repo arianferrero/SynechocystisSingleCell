{
 "cells": [
  {
   "cell_type": "code",
   "execution_count": 2,
   "id": "6774cf98",
   "metadata": {},
   "outputs": [],
   "source": [
    "import cobra\n",
    "import pandas as pd\n",
    "import numpy as np\n",
    "import matplotlib.pyplot as plt\n",
    "import math\n",
    "import seaborn as sns\n",
    "import os\n",
    "plt.rcParams['figure.figsize'] = [11, 7]"
   ]
  },
  {
   "cell_type": "markdown",
   "id": "777f3b8d",
   "metadata": {},
   "source": [
    "## Sampling standard conditions"
   ]
  },
  {
   "cell_type": "code",
   "execution_count": 10,
   "id": "0f31a028",
   "metadata": {},
   "outputs": [
    {
     "name": "stdout",
     "output_type": "stream",
     "text": [
      "0.61411971 0.0695001 0.00766921024719267 0.000785001030168238\n"
     ]
    }
   ],
   "source": [
    "# Sampling all cells\n",
    "\n",
    "results_file_name = '../results/standard_C_N_growth.xlsx'\n",
    "std = pd.read_excel(results_file_name)\n",
    "\n",
    "i = 0\n",
    "for cell in std.iterrows():\n",
    "    # Load metabolid model\n",
    "    model = cobra.io.load_json_model('../models/iJN678_std.json')\n",
    "    model.solver='glpk'\n",
    "    \n",
    "    # Fix medium composition\n",
    "    model.reactions.EX_o2_e.lower_bound = -1000\n",
    "    model.reactions.EX_glc__D_e.lower_bound = 0\n",
    "    model.reactions.EX_photon_e.lower_bound = -9\n",
    "    model.reactions.EX_co2_e.lower_bound = 0\n",
    "    model.reactions.EX_no3_e.lower_bound = 0\n",
    "    model.reactions.EX_so4_e.lower_bound = -1.96\n",
    "    \n",
    "    # Fix known fluxes   \n",
    "    c, n, g, g_sd = cell[1]['u_C'], cell[1]['u_N'], cell[1]['growth_rate'], cell[1]['growth_rate_sd']\n",
    "    model.reactions.EX_hco3_e.bounds = (-c , -c)\n",
    "    model.reactions.EX_nh4_e.bounds = (-n , -n)\n",
    "    model.reactions.BIOMASS_Ec_SynAuto.bounds = (g - g_sd , g + g_sd)\n",
    "    try:  \n",
    "        # Sampling using the algorithm implemented in COBRA\n",
    "        a = cobra.sampling.sample(model, n=1000 , processes=4)\n",
    "        # Saving sampling results\n",
    "        a.to_csv('../results/sampling/std/std_1000samples_cell' + str(i) + '.dat', index=None, sep='\\t')\n",
    "    except: \n",
    "        print('Cell %s : Non feasible' % i)\n",
    "    i += 1\n",
    "    \n"
   ]
  },
  {
   "cell_type": "markdown",
   "id": "6ebb45b9",
   "metadata": {},
   "source": [
    "## Sampling stress conditions"
   ]
  },
  {
   "cell_type": "code",
   "execution_count": null,
   "id": "f750f4d1",
   "metadata": {},
   "outputs": [],
   "source": [
    "\n",
    "\n",
    "results_file_name = '../results/stress_C_N_growth.xlsx'\n",
    "stress = pd.read_excel(results_file_name)\n",
    "\n",
    "i = 0\n",
    "for cell in stress.iterrows():    \n",
    "    # Load metabolid model\n",
    "    model = cobra.io.load_json_model('../models/iJN678_stress.json')\n",
    "    model.solver='glpk'\n",
    "    \n",
    "    # Fix medium composition\n",
    "    model.reactions.EX_o2_e.lower_bound = 0\n",
    "    model.reactions.EX_glc__D_e.lower_bound = 0\n",
    "    model.reactions.EX_photon_e.lower_bound = -9\n",
    "    model.reactions.EX_co2_e.lower_bound = 0\n",
    "    model.reactions.EX_no3_e.lower_bound = 0\n",
    "    model.reactions.EX_so4_e.lower_bound = -654\n",
    "    \n",
    "    # Fix known fluxes   \n",
    "    c, n, g, g_sd = cell[1]['u_C'], cell[1]['u_N'], cell[1]['growth_rate'], cell[1]['growth_rate_sd']\n",
    "    model.reactions.EX_hco3_e.bounds = (-c , -c)\n",
    "    model.reactions.EX_nh4_e.bounds = (-n , -n)\n",
    "    model.reactions.BIOMASS_Ec_SynAuto.bounds = (g - g_sd , g + g_sd)\n",
    "    try:  \n",
    "        # Sampling using the algorithm implemented in COBRA\n",
    "        a = cobra.sampling.sample(model, n=1000 , processes=4)\n",
    "        # Saving sampling results\n",
    "        a.to_csv('../results/sampling/stress/stress_1000samples_cell' + str(i) + '.dat', index=None, sep='\\t')\n",
    "    except: \n",
    "        print('Cell %s : Non feasible' % i)\n",
    "    i += 1\n",
    "    "
   ]
  }
 ],
 "metadata": {
  "kernelspec": {
   "display_name": "Python 3 (ipykernel)",
   "language": "python",
   "name": "python3"
  },
  "language_info": {
   "codemirror_mode": {
    "name": "ipython",
    "version": 3
   },
   "file_extension": ".py",
   "mimetype": "text/x-python",
   "name": "python",
   "nbconvert_exporter": "python",
   "pygments_lexer": "ipython3",
   "version": "3.8.10"
  }
 },
 "nbformat": 4,
 "nbformat_minor": 5
}
